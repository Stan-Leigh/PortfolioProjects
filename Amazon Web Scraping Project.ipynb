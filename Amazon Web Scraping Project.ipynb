{
 "cells": [
  {
   "cell_type": "code",
   "execution_count": 38,
   "id": "3ca83fb1",
   "metadata": {},
   "outputs": [],
   "source": [
    "# import libraries\n",
    "\n",
    "from bs4 import BeautifulSoup\n",
    "import requests\n",
    "import time\n",
    "import datetime\n",
    "import datetime\n",
    "import csv \n",
    "import pandas as pd"
   ]
  },
  {
   "cell_type": "code",
   "execution_count": 31,
   "id": "2afe556e",
   "metadata": {},
   "outputs": [
    {
     "name": "stdout",
     "output_type": "stream",
     "text": [
      "\n",
      "                   Funny Got Data MIS Data Systems Business Analyst T-Shirt\n",
      "                  \n",
      "\n",
      "                    14 ratings\n",
      "                   \n",
      "\n",
      "                  Brand: MIS Business & Data Analyst Got Data Designs\n",
      "                 \n"
     ]
    }
   ],
   "source": [
    "# Connect to the website\n",
    "\n",
    "url = 'https://www.amazon.com/Funny-Data-Systems-Business-Analyst/dp/B07FNW9FGJ/ref=sr_1_3?dchild=1&keywords=data%2Banalyst%2Btshirt&qid=1626655184&sr=8-3&customId=B0752XJYNL&th=1'\n",
    "\n",
    "headers = {\"User-Agent\": \"Mozilla/5.0 (Windows NT 10.0; Win64; x64) AppleWebKit/537.36 (KHTML, like Gecko) Chrome/100.0.4896.127 Safari/537.36\", \"Accept-Encoding\":\"gzip, deflate\", \"Accept\":\"text/html,application/xhtml+xml,application/xml;q=0.9,*/*;q=0.8\", \"DNT\":\"1\",\"Connection\":\"close\", \"Upgrade-Insecure-Requests\":\"1\"}\n",
    "\n",
    "page = requests.get(url, headers=headers)\n",
    "\n",
    "soup1 = BeautifulSoup(page.content, \"html.parser\")\n",
    "\n",
    "soup2 = BeautifulSoup(soup1.prettify(), \"html.parser\")\n",
    "\n",
    "title = soup2.find(id='productTitle').get_text()\n",
    "\n",
    "number_of_ratings = soup2.find(id='acrCustomerReviewText').get_text()\n",
    "\n",
    "brand = soup2.find(id='bylineInfo').get_text()\n",
    "\n",
    "\n",
    "print(title)\n",
    "print(number_of_ratings)\n",
    "print(brand)"
   ]
  },
  {
   "cell_type": "code",
   "execution_count": 32,
   "id": "4bfe7521",
   "metadata": {},
   "outputs": [
    {
     "name": "stdout",
     "output_type": "stream",
     "text": [
      "Funny Got Data MIS Data Systems Business Analyst T-Shirt\n",
      "14\n",
      "MIS Business & Data Analyst Got Data Designs\n"
     ]
    }
   ],
   "source": [
    "# Clean up the data\n",
    "\n",
    "number_of_ratings = number_of_ratings.strip()[:2]\n",
    "title = title.strip()\n",
    "brand = brand.strip()[7:]\n",
    "\n",
    "print(title)\n",
    "print(number_of_ratings)\n",
    "print(brand)"
   ]
  },
  {
   "cell_type": "code",
   "execution_count": 33,
   "id": "f506abfb",
   "metadata": {},
   "outputs": [
    {
     "name": "stdout",
     "output_type": "stream",
     "text": [
      "2022-04-24\n"
     ]
    }
   ],
   "source": [
    "# Create a Timestamp for your output to track when data was collected\n",
    "\n",
    "today = datetime.date.today()\n",
    "\n",
    "print(today)"
   ]
  },
  {
   "cell_type": "code",
   "execution_count": 34,
   "id": "a2de936b",
   "metadata": {},
   "outputs": [],
   "source": [
    "# Create CSV and write headers and data into the file\n",
    "\n",
    "header = ['Title', 'Number_of_ratings', 'Date', 'Brand']\n",
    "data = [title, number_of_ratings, today, brand]\n",
    "\n",
    "\n",
    "# Code below commented out to avoid over writing the data when running it again later in the future >>>\n",
    "\n",
    "# with open('AmazonShirtsDataset.csv', 'w', newline='', encoding='UTF8') as file:\n",
    "#     writer = csv.writer(file)\n",
    "#     writer.writerow(header)\n",
    "#     writer.writerow(data)"
   ]
  },
  {
   "cell_type": "code",
   "execution_count": 35,
   "id": "84dbb5f8",
   "metadata": {},
   "outputs": [
    {
     "name": "stdout",
     "output_type": "stream",
     "text": [
      "                                               Title  Number_of_ratings  \\\n",
      "0  Funny Got Data MIS Data Systems Business Analy...                 14   \n",
      "\n",
      "         Date                                         Brand  \n",
      "0  2022-04-24  MIS Business & Data Analyst Got Data Designs  \n"
     ]
    }
   ],
   "source": [
    "# To view written data easily\n",
    "\n",
    "df = pd.read_csv('AmazonShirtsDataset.csv')\n",
    "\n",
    "print(df)"
   ]
  },
  {
   "cell_type": "code",
   "execution_count": 36,
   "id": "75d02cbe",
   "metadata": {},
   "outputs": [],
   "source": [
    "# Combine all of the above code into one function\n",
    "\n",
    "\n",
    "def check_price():\n",
    "    url = 'https://www.amazon.com/Funny-Data-Systems-Business-Analyst/dp/B07FNW9FGJ/ref=sr_1_3?dchild=1&keywords=data%2Banalyst%2Btshirt&qid=1626655184&sr=8-3&customId=B0752XJYNL&th=1'\n",
    "\n",
    "    headers = {\"User-Agent\": \"Mozilla/5.0 (Windows NT 10.0; Win64; x64) AppleWebKit/537.36 (KHTML, like Gecko) Chrome/100.0.4896.127 Safari/537.36\", \"Accept-Encoding\":\"gzip, deflate\", \"Accept\":\"text/html,application/xhtml+xml,application/xml;q=0.9,*/*;q=0.8\", \"DNT\":\"1\",\"Connection\":\"close\", \"Upgrade-Insecure-Requests\":\"1\"}\n",
    "\n",
    "    page = requests.get(url, headers=headers)\n",
    "\n",
    "    soup1 = BeautifulSoup(page.content, \"html.parser\")\n",
    "\n",
    "    soup2 = BeautifulSoup(soup1.prettify(), \"html.parser\")\n",
    "\n",
    "    title = soup2.find(id='productTitle').get_text()\n",
    "\n",
    "    number_of_ratings = soup2.find(id='acrCustomerReviewText').get_text()\n",
    "\n",
    "    brand = soup2.find(id='bylineInfo').get_text()\n",
    "\n",
    "    number_of_ratings = number_of_ratings.strip()[:2]\n",
    "    title = title.strip()\n",
    "    brand = brand.strip()[7:]\n",
    "\n",
    "    import datetime\n",
    "\n",
    "    today = datetime.date.today()\n",
    "    \n",
    "    import csv \n",
    "\n",
    "    header = ['Title', 'Number_of_ratings', 'Date', 'Brand']\n",
    "    data = [title, number_of_ratings, today, brand]\n",
    "\n",
    "    with open('AmazonWebScraperDataset.csv', 'a+', newline='', encoding='UTF8') as f:\n",
    "        writer = csv.writer(f)\n",
    "        writer.writerow(data)"
   ]
  },
  {
   "cell_type": "code",
   "execution_count": null,
   "id": "884e4dd9",
   "metadata": {},
   "outputs": [],
   "source": [
    "while True:\n",
    "    check_price()\n",
    "    time.sleep(86400)"
   ]
  },
  {
   "cell_type": "code",
   "execution_count": null,
   "id": "e8e235f5",
   "metadata": {},
   "outputs": [],
   "source": [
    "df = pd.read_csv('AmazonShirtsDataset.csv')\n",
    "\n",
    "print(df)"
   ]
  },
  {
   "cell_type": "code",
   "execution_count": null,
   "id": "b1a023dd",
   "metadata": {},
   "outputs": [],
   "source": []
  }
 ],
 "metadata": {
  "kernelspec": {
   "display_name": "Python 3",
   "language": "python",
   "name": "python3"
  },
  "language_info": {
   "codemirror_mode": {
    "name": "ipython",
    "version": 3
   },
   "file_extension": ".py",
   "mimetype": "text/x-python",
   "name": "python",
   "nbconvert_exporter": "python",
   "pygments_lexer": "ipython3",
   "version": "3.8.8"
  }
 },
 "nbformat": 4,
 "nbformat_minor": 5
}
